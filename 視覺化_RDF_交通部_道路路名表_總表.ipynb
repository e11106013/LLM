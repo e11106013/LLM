{
  "cells": [
    {
      "cell_type": "markdown",
      "metadata": {
        "id": "view-in-github",
        "colab_type": "text"
      },
      "source": [
        "<a href=\"https://colab.research.google.com/github/e11106013/LLM/blob/main/%E8%A6%96%E8%A6%BA%E5%8C%96_RDF_%E4%BA%A4%E9%80%9A%E9%83%A8_%E9%81%93%E8%B7%AF%E8%B7%AF%E5%90%8D%E8%A1%A8_%E7%B8%BD%E8%A1%A8.ipynb\" target=\"_parent\"><img src=\"https://colab.research.google.com/assets/colab-badge.svg\" alt=\"Open In Colab\"/></a>"
      ]
    },
    {
      "cell_type": "markdown",
      "metadata": {
        "id": "KIJvyBSAhWCT"
      },
      "source": [
        "  原始檔案下載至 https://link.motc.gov.tw/DownloadFile\n",
        "  [道路路名表-總表](https://docs.google.com/spreadsheets/d/1qjJ_D8vvfxWA_WPFxYMS9_oOYPv1XGOZ_jtwnROmy88/edit?usp=drive_link)\n",
        "\n",
        "  \"道路路名表-總表\"資料內容如下表:\n",
        "\n",
        "  ![image.png](data:image/png;base64,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)"
      ]
    },
    {
      "cell_type": "code",
      "source": [],
      "metadata": {
        "id": "CL6howmV01rg"
      },
      "execution_count": null,
      "outputs": []
    },
    {
      "cell_type": "code",
      "execution_count": 1,
      "metadata": {
        "id": "JdvXOFljrlvL"
      },
      "outputs": [],
      "source": [
        "#@title 安裝必要的rdflib 套件\n",
        "%%capture\n",
        "!pip install rdflib jupyter-dash dash_cytoscape dash"
      ]
    },
    {
      "cell_type": "code",
      "execution_count": 13,
      "metadata": {
        "colab": {
          "base_uri": "https://localhost:8080/"
        },
        "id": "-Tt9WnGVwpAJ",
        "outputId": "75c7e54a-7c7c-4211-afbc-5b39681d368d"
      },
      "outputs": [
        {
          "output_type": "execute_result",
          "data": {
            "text/plain": [
              "<Graph identifier=Ndef07e5fbb65463c84c4f8e9a1aaed56 (<class 'rdflib.graph.Graph'>)>"
            ]
          },
          "metadata": {},
          "execution_count": 13
        }
      ],
      "source": [
        "#@title 讀取turtle檔案中的資訊\n",
        "from rdflib import Graph\n",
        "\n",
        "\n",
        "#@title 擷取一部分內容展示\n",
        "g = Graph()\n",
        "# create graph using turtle\n",
        "turtledata = \"\"\"\\\n",
        "@prefix ex: <http://example.org/road/> .\n",
        "@prefix rdfs: <http://www.w3.org/2000/01/rdf-schema#> .\n",
        "@prefix schema1: <http://schema.org/> .\n",
        "@prefix xsd: <http://www.w3.org/2001/XMLSchema#> .\n",
        "\n",
        "ex:00001A a schema1:Route ;\n",
        "    rdfs:label \"國道1號汐止五股高架道路\" ;\n",
        "    ex:cityID \"NaN\"^^xsd:double ;\n",
        "    ex:intersectionID \"NaN\"^^xsd:double,\n",
        "        1e+00,\n",
        "        2e+00,\n",
        "        3e+00,\n",
        "        4e+00,\n",
        "        5e+00 ;\n",
        "    ex:intersectionName \"NaN\"^^xsd:double,\n",
        "        \"下塔悠出口匝道\",\n",
        "        \"五股轉接道\",\n",
        "        \"堤頂交流道\",\n",
        "        \"汐止端\",\n",
        "        \"環北交流道\" ;\n",
        "    ex:mileLength \"18.7\"^^xsd:float ;\n",
        "    ex:rampID \"NaN\"^^xsd:double ;\n",
        "    ex:rampName \"NaN\"^^xsd:double ;\n",
        "    ex:roadChineseName \"國道\" ;\n",
        "    ex:roadClass 0 ;\n",
        "    ex:roadNameID \"0001A\" ;\n",
        "    ex:version \"24.11.1\" ;\n",
        "    schema1:addressLocality \"NaN\"^^xsd:double ;\n",
        "    schema1:addressRegion \"NaN\"^^xsd:double ;\n",
        "    schema1:dateModified \"2024-11-22\"^^xsd:date ;\n",
        "    schema1:description \"NaN\"^^xsd:double ;\n",
        "    schema1:length \"0.2508\"^^xsd:float,\n",
        "        \"0.509\"^^xsd:float,\n",
        "        \"1.9796\"^^xsd:float,\n",
        "        \"3.5265\"^^xsd:float,\n",
        "        \"3.7746\"^^xsd:float,\n",
        "        \"18.6907\"^^xsd:float .\n",
        "\"\"\"\n",
        "g.parse(data=turtledata, format=\"turtle\")"
      ]
    },
    {
      "cell_type": "code",
      "source": [
        "from jupyter_dash import JupyterDash\n",
        "from dash import dcc, html, Input, Output, State\n",
        "import dash_cytoscape as cyto\n",
        "import rdflib\n",
        "\n",
        "# 使用 JupyterDash 而不是 Dash\n",
        "app = JupyterDash(__name__)\n",
        "\n",
        "def simplify_uri(uri):\n",
        "    if '#' in uri:\n",
        "        return uri.split('#')[-1]\n",
        "    else:\n",
        "        return uri.rstrip('/').split('/')[-1]\n",
        "\n",
        "\n",
        "# 提取所有三元組，轉成 Cytoscape 格式\n",
        "def get_graph_elements_from_rdf(graph, filter_keyword=None):\n",
        "    nodes = {}\n",
        "    edges = []\n",
        "    for s, p, o in graph:\n",
        "        s_str = str(s)\n",
        "        p_str = str(p)\n",
        "        o_str = str(o)\n",
        "\n",
        "        if filter_keyword:\n",
        "            if not (filter_keyword in s_str or filter_keyword in p_str or filter_keyword in o_str):\n",
        "                continue\n",
        "\n",
        "        if s_str not in nodes:\n",
        "            nodes[s_str] = {'data': {'id': s_str, 'label': simplify_uri(s_str)}}\n",
        "        if o_str not in nodes:\n",
        "            nodes[o_str] = {'data': {'id': o_str, 'label': simplify_uri(o_str)}}\n",
        "\n",
        "        edges.append({\n",
        "            'data': {'source': s_str, 'target': o_str, 'label': simplify_uri(p_str)}\n",
        "        })\n",
        "    return list(nodes.values()) + edges\n",
        "\n",
        "app.layout = html.Div([\n",
        "    html.H2(\"TTL 知識圖譜視覺化\"),\n",
        "    dcc.Input(id='filter-input', type='text', placeholder='輸入關鍵字過濾', style={'width': '80%'}),\n",
        "    html.Button('顯示', id='filter-button', n_clicks=0),\n",
        "    cyto.Cytoscape(\n",
        "        id='cytoscape-graph',\n",
        "        layout={'name': 'cose'},\n",
        "        style={'width': '100%', 'height': '600px'},\n",
        "        elements=[],\n",
        "        stylesheet=[\n",
        "            {\n",
        "                'selector': 'node',\n",
        "                'style': {\n",
        "                    'label': 'data(label)',\n",
        "                    'background-color': '#0074D9',\n",
        "                    'color': 'white',\n",
        "                    'text-valign': 'center',\n",
        "                    'text-halign': 'center',\n",
        "                    'font-size': 10,\n",
        "                    'width': 'label',\n",
        "                    'padding': '8px',\n",
        "                    'shape': 'roundrectangle',\n",
        "                    'border-width': 1,            # 邊框調整，預設是 0\n",
        "                    'border-color': '#333333'   # 邊框顏色\n",
        "                }\n",
        "            },\n",
        "            {\n",
        "                'selector': 'edge',\n",
        "                'style': {\n",
        "                    'curve-style': 'bezier',\n",
        "                    'target-arrow-shape': 'triangle-backcurve',\n",
        "                    'source-arrow-shape': 'none',\n",
        "                    'target-arrow-color': '#000',\n",
        "                    'line-color': '#000',\n",
        "                    'arrow-scale': 1.5,\n",
        "                    'width': 2,\n",
        "                    'label': 'data(label)',\n",
        "                    # 加框設定\n",
        "                    'text-background-color': '#EEE',           # 背景顏色\n",
        "                    'text-background-opacity': 1,              # 背景不透明度（0～1）\n",
        "                    'text-background-shape': 'roundrectangle', # 形狀： rectangle / roundrectangle\n",
        "                    'text-border-color': '#333',               # 框線顏色\n",
        "                    'text-border-width': 1,                    # 框線寬度\n",
        "                    'text-border-opacity': 1,                  # 框線不透明度（0～1）\n",
        "                    # 其他文字樣式\n",
        "                    'font-size':  9,\n",
        "                    'text-rotation': 'autorotate',\n",
        "                    'color': '#000'\n",
        "                }\n",
        "            }\n",
        "        ]\n",
        "    )\n",
        "])\n",
        "\n",
        "@app.callback(\n",
        "    Output('cytoscape-graph', 'elements'),\n",
        "    Input('filter-button', 'n_clicks'),\n",
        "    State('filter-input', 'value')\n",
        ")\n",
        "def update_graph(n_clicks, filter_keyword):\n",
        "    return get_graph_elements_from_rdf(g, filter_keyword)\n",
        "\n",
        "# 使用 jupyter_dash 的 inline 模式\n",
        "app.run(mode='inline', debug=True)\n"
      ],
      "metadata": {
        "id": "0xpWcgCOmlf8",
        "colab": {
          "base_uri": "https://localhost:8080/",
          "height": 672
        },
        "outputId": "19a0d268-2b28-4c9e-bedc-22ed0bd516c4"
      },
      "execution_count": 14,
      "outputs": [
        {
          "output_type": "display_data",
          "data": {
            "text/plain": [
              "<IPython.core.display.Javascript object>"
            ],
            "application/javascript": [
              "(async (port, path, width, height, cache, element) => {\n",
              "    if (!google.colab.kernel.accessAllowed && !cache) {\n",
              "      return;\n",
              "    }\n",
              "    element.appendChild(document.createTextNode(''));\n",
              "    const url = await google.colab.kernel.proxyPort(port, {cache});\n",
              "    const iframe = document.createElement('iframe');\n",
              "    iframe.src = new URL(path, url).toString();\n",
              "    iframe.height = height;\n",
              "    iframe.width = width;\n",
              "    iframe.style.border = 0;\n",
              "    iframe.allow = [\n",
              "        'accelerometer',\n",
              "        'autoplay',\n",
              "        'camera',\n",
              "        'clipboard-read',\n",
              "        'clipboard-write',\n",
              "        'gyroscope',\n",
              "        'magnetometer',\n",
              "        'microphone',\n",
              "        'serial',\n",
              "        'usb',\n",
              "        'xr-spatial-tracking',\n",
              "    ].join('; ');\n",
              "    element.appendChild(iframe);\n",
              "  })(8050, \"/\", \"100%\", 650, false, window.element)"
            ]
          },
          "metadata": {}
        }
      ]
    }
  ],
  "metadata": {
    "colab": {
      "provenance": [],
      "authorship_tag": "ABX9TyO9lhioGuEITOjA2u8OTD8e",
      "include_colab_link": true
    },
    "kernelspec": {
      "display_name": "Python 3",
      "name": "python3"
    },
    "language_info": {
      "name": "python"
    }
  },
  "nbformat": 4,
  "nbformat_minor": 0
}